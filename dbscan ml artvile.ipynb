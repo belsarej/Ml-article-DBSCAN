{
 "cells": [
  {
   "cell_type": "code",
   "execution_count": 27,
   "metadata": {},
   "outputs": [],
   "source": [
    "import pandas as pd\n",
    "import numpy as np\n",
    "import matplotlib.pyplot as plt\n",
    "from sklearn.preprocessing import StandardScaler\n",
    "from sklearn.cluster import DBSCAN\n",
    "from collections import Counter\n",
    "import seaborn as sns\n",
    "from sklearn import metrics\n",
    "from sklearn.datasets import make_blobs\n"
   ]
  },
  {
   "cell_type": "code",
   "execution_count": 2,
   "metadata": {},
   "outputs": [],
   "source": [
    "df=pd.read_csv(r\"C:\\Users\\lenovo\\Desktop\\praxis\\archive\\Mall_Customers.csv\")"
   ]
  },
  {
   "cell_type": "code",
   "execution_count": 3,
   "metadata": {},
   "outputs": [
    {
     "data": {
      "text/html": [
       "<div>\n",
       "<style scoped>\n",
       "    .dataframe tbody tr th:only-of-type {\n",
       "        vertical-align: middle;\n",
       "    }\n",
       "\n",
       "    .dataframe tbody tr th {\n",
       "        vertical-align: top;\n",
       "    }\n",
       "\n",
       "    .dataframe thead th {\n",
       "        text-align: right;\n",
       "    }\n",
       "</style>\n",
       "<table border=\"1\" class=\"dataframe\">\n",
       "  <thead>\n",
       "    <tr style=\"text-align: right;\">\n",
       "      <th></th>\n",
       "      <th>CustomerID</th>\n",
       "      <th>Genre</th>\n",
       "      <th>Age</th>\n",
       "      <th>Annual Income (k$)</th>\n",
       "      <th>Spending Score (1-100)</th>\n",
       "    </tr>\n",
       "  </thead>\n",
       "  <tbody>\n",
       "    <tr>\n",
       "      <td>0</td>\n",
       "      <td>1</td>\n",
       "      <td>Male</td>\n",
       "      <td>19</td>\n",
       "      <td>15</td>\n",
       "      <td>39</td>\n",
       "    </tr>\n",
       "    <tr>\n",
       "      <td>1</td>\n",
       "      <td>2</td>\n",
       "      <td>Male</td>\n",
       "      <td>21</td>\n",
       "      <td>15</td>\n",
       "      <td>81</td>\n",
       "    </tr>\n",
       "    <tr>\n",
       "      <td>2</td>\n",
       "      <td>3</td>\n",
       "      <td>Female</td>\n",
       "      <td>20</td>\n",
       "      <td>16</td>\n",
       "      <td>6</td>\n",
       "    </tr>\n",
       "    <tr>\n",
       "      <td>3</td>\n",
       "      <td>4</td>\n",
       "      <td>Female</td>\n",
       "      <td>23</td>\n",
       "      <td>16</td>\n",
       "      <td>77</td>\n",
       "    </tr>\n",
       "    <tr>\n",
       "      <td>4</td>\n",
       "      <td>5</td>\n",
       "      <td>Female</td>\n",
       "      <td>31</td>\n",
       "      <td>17</td>\n",
       "      <td>40</td>\n",
       "    </tr>\n",
       "  </tbody>\n",
       "</table>\n",
       "</div>"
      ],
      "text/plain": [
       "   CustomerID   Genre  Age  Annual Income (k$)  Spending Score (1-100)\n",
       "0           1    Male   19                  15                      39\n",
       "1           2    Male   21                  15                      81\n",
       "2           3  Female   20                  16                       6\n",
       "3           4  Female   23                  16                      77\n",
       "4           5  Female   31                  17                      40"
      ]
     },
     "execution_count": 3,
     "metadata": {},
     "output_type": "execute_result"
    }
   ],
   "source": [
    "df.head()"
   ]
  },
  {
   "cell_type": "code",
   "execution_count": 4,
   "metadata": {},
   "outputs": [
    {
     "data": {
      "text/plain": [
       "(200, 5)"
      ]
     },
     "execution_count": 4,
     "metadata": {},
     "output_type": "execute_result"
    }
   ],
   "source": [
    "df.shape"
   ]
  },
  {
   "cell_type": "code",
   "execution_count": 5,
   "metadata": {},
   "outputs": [
    {
     "data": {
      "text/plain": [
       "Index(['CustomerID', 'Genre', 'Age', 'Annual Income (k$)',\n",
       "       'Spending Score (1-100)'],\n",
       "      dtype='object')"
      ]
     },
     "execution_count": 5,
     "metadata": {},
     "output_type": "execute_result"
    }
   ],
   "source": [
    "df.columns"
   ]
  },
  {
   "cell_type": "code",
   "execution_count": 6,
   "metadata": {},
   "outputs": [
    {
     "name": "stdout",
     "output_type": "stream",
     "text": [
      "<class 'pandas.core.frame.DataFrame'>\n",
      "RangeIndex: 200 entries, 0 to 199\n",
      "Data columns (total 5 columns):\n",
      "CustomerID                200 non-null int64\n",
      "Genre                     200 non-null object\n",
      "Age                       200 non-null int64\n",
      "Annual Income (k$)        200 non-null int64\n",
      "Spending Score (1-100)    200 non-null int64\n",
      "dtypes: int64(4), object(1)\n",
      "memory usage: 7.9+ KB\n"
     ]
    }
   ],
   "source": [
    "df.info()"
   ]
  },
  {
   "cell_type": "code",
   "execution_count": 7,
   "metadata": {},
   "outputs": [
    {
     "data": {
      "text/plain": [
       "CustomerID                0\n",
       "Genre                     0\n",
       "Age                       0\n",
       "Annual Income (k$)        0\n",
       "Spending Score (1-100)    0\n",
       "dtype: int64"
      ]
     },
     "execution_count": 7,
     "metadata": {},
     "output_type": "execute_result"
    }
   ],
   "source": [
    "df.isnull().sum()"
   ]
  },
  {
   "cell_type": "code",
   "execution_count": 8,
   "metadata": {},
   "outputs": [],
   "source": [
    "x=np.array(df['Spending Score (1-100)'])\n",
    "y=np.array(df['Annual Income (k$)'])"
   ]
  },
  {
   "cell_type": "code",
   "execution_count": 10,
   "metadata": {},
   "outputs": [
    {
     "data": {
      "image/png": "[encoded data removed]",
      "text/plain": [
       "<Figure size 432x288 with 1 Axes>"
      ]
     },
     "metadata": {
      "needs_background": "light"
     },
     "output_type": "display_data"
    }
   ],
   "source": [
    "plt.scatter(x, y, alpha=0.5)\n",
    "plt.title('Scatter plot for spending score and annual income ')\n",
    "plt.xlabel('spending score')\n",
    "plt.ylabel('annual income')\n",
    "plt.show()"
   ]
  },
  {
   "cell_type": "code",
   "execution_count": 11,
   "metadata": {},
   "outputs": [
    {
     "data": {
      "text/plain": [
       "array([[ 39.,  15.],\n",
       "       [ 81.,  15.],\n",
       "       [  6.,  16.],\n",
       "       [ 77.,  16.],\n",
       "       [ 40.,  17.],\n",
       "       [ 76.,  17.],\n",
       "       [  6.,  18.],\n",
       "       [ 94.,  18.],\n",
       "       [  3.,  19.],\n",
       "       [ 72.,  19.],\n",
       "       [ 14.,  19.],\n",
       "       [ 99.,  19.],\n",
       "       [ 15.,  20.],\n",
       "       [ 77.,  20.],\n",
       "       [ 13.,  20.],\n",
       "       [ 79.,  20.],\n",
       "       [ 35.,  21.],\n",
       "       [ 66.,  21.],\n",
       "       [ 29.,  23.],\n",
       "       [ 98.,  23.],\n",
       "       [ 35.,  24.],\n",
       "       [ 73.,  24.],\n",
       "       [  5.,  25.],\n",
       "       [ 73.,  25.],\n",
       "       [ 14.,  28.],\n",
       "       [ 82.,  28.],\n",
       "       [ 32.,  28.],\n",
       "       [ 61.,  28.],\n",
       "       [ 31.,  29.],\n",
       "       [ 87.,  29.],\n",
       "       [  4.,  30.],\n",
       "       [ 73.,  30.],\n",
       "       [  4.,  33.],\n",
       "       [ 92.,  33.],\n",
       "       [ 14.,  33.],\n",
       "       [ 81.,  33.],\n",
       "       [ 17.,  34.],\n",
       "       [ 73.,  34.],\n",
       "       [ 26.,  37.],\n",
       "       [ 75.,  37.],\n",
       "       [ 35.,  38.],\n",
       "       [ 92.,  38.],\n",
       "       [ 36.,  39.],\n",
       "       [ 61.,  39.],\n",
       "       [ 28.,  39.],\n",
       "       [ 65.,  39.],\n",
       "       [ 55.,  40.],\n",
       "       [ 47.,  40.],\n",
       "       [ 42.,  40.],\n",
       "       [ 42.,  40.],\n",
       "       [ 52.,  42.],\n",
       "       [ 60.,  42.],\n",
       "       [ 54.,  43.],\n",
       "       [ 60.,  43.],\n",
       "       [ 45.,  43.],\n",
       "       [ 41.,  43.],\n",
       "       [ 50.,  44.],\n",
       "       [ 46.,  44.],\n",
       "       [ 51.,  46.],\n",
       "       [ 46.,  46.],\n",
       "       [ 56.,  46.],\n",
       "       [ 55.,  46.],\n",
       "       [ 52.,  47.],\n",
       "       [ 59.,  47.],\n",
       "       [ 51.,  48.],\n",
       "       [ 59.,  48.],\n",
       "       [ 50.,  48.],\n",
       "       [ 48.,  48.],\n",
       "       [ 59.,  48.],\n",
       "       [ 47.,  48.],\n",
       "       [ 55.,  49.],\n",
       "       [ 42.,  49.],\n",
       "       [ 49.,  50.],\n",
       "       [ 56.,  50.],\n",
       "       [ 47.,  54.],\n",
       "       [ 54.,  54.],\n",
       "       [ 53.,  54.],\n",
       "       [ 48.,  54.],\n",
       "       [ 52.,  54.],\n",
       "       [ 42.,  54.],\n",
       "       [ 51.,  54.],\n",
       "       [ 55.,  54.],\n",
       "       [ 41.,  54.],\n",
       "       [ 44.,  54.],\n",
       "       [ 57.,  54.],\n",
       "       [ 46.,  54.],\n",
       "       [ 58.,  57.],\n",
       "       [ 55.,  57.],\n",
       "       [ 60.,  58.],\n",
       "       [ 46.,  58.],\n",
       "       [ 55.,  59.],\n",
       "       [ 41.,  59.],\n",
       "       [ 49.,  60.],\n",
       "       [ 40.,  60.],\n",
       "       [ 42.,  60.],\n",
       "       [ 52.,  60.],\n",
       "       [ 47.,  60.],\n",
       "       [ 50.,  60.],\n",
       "       [ 42.,  61.],\n",
       "       [ 49.,  61.],\n",
       "       [ 41.,  62.],\n",
       "       [ 48.,  62.],\n",
       "       [ 59.,  62.],\n",
       "       [ 55.,  62.],\n",
       "       [ 56.,  62.],\n",
       "       [ 42.,  62.],\n",
       "       [ 50.,  63.],\n",
       "       [ 46.,  63.],\n",
       "       [ 43.,  63.],\n",
       "       [ 48.,  63.],\n",
       "       [ 52.,  63.],\n",
       "       [ 54.,  63.],\n",
       "       [ 42.,  64.],\n",
       "       [ 46.,  64.],\n",
       "       [ 48.,  65.],\n",
       "       [ 50.,  65.],\n",
       "       [ 43.,  65.],\n",
       "       [ 59.,  65.],\n",
       "       [ 43.,  67.],\n",
       "       [ 57.,  67.],\n",
       "       [ 56.,  67.],\n",
       "       [ 40.,  67.],\n",
       "       [ 58.,  69.],\n",
       "       [ 91.,  69.],\n",
       "       [ 29.,  70.],\n",
       "       [ 77.,  70.],\n",
       "       [ 35.,  71.],\n",
       "       [ 95.,  71.],\n",
       "       [ 11.,  71.],\n",
       "       [ 75.,  71.],\n",
       "       [  9.,  71.],\n",
       "       [ 75.,  71.],\n",
       "       [ 34.,  72.],\n",
       "       [ 71.,  72.],\n",
       "       [  5.,  73.],\n",
       "       [ 88.,  73.],\n",
       "       [  7.,  73.],\n",
       "       [ 73.,  73.],\n",
       "       [ 10.,  74.],\n",
       "       [ 72.,  74.],\n",
       "       [  5.,  75.],\n",
       "       [ 93.,  75.],\n",
       "       [ 40.,  76.],\n",
       "       [ 87.,  76.],\n",
       "       [ 12.,  77.],\n",
       "       [ 97.,  77.],\n",
       "       [ 36.,  77.],\n",
       "       [ 74.,  77.],\n",
       "       [ 22.,  78.],\n",
       "       [ 90.,  78.],\n",
       "       [ 17.,  78.],\n",
       "       [ 88.,  78.],\n",
       "       [ 20.,  78.],\n",
       "       [ 76.,  78.],\n",
       "       [ 16.,  78.],\n",
       "       [ 89.,  78.],\n",
       "       [  1.,  78.],\n",
       "       [ 78.,  78.],\n",
       "       [  1.,  78.],\n",
       "       [ 73.,  78.],\n",
       "       [ 35.,  79.],\n",
       "       [ 83.,  79.],\n",
       "       [  5.,  81.],\n",
       "       [ 93.,  81.],\n",
       "       [ 26.,  85.],\n",
       "       [ 75.,  85.],\n",
       "       [ 20.,  86.],\n",
       "       [ 95.,  86.],\n",
       "       [ 27.,  87.],\n",
       "       [ 63.,  87.],\n",
       "       [ 13.,  87.],\n",
       "       [ 75.,  87.],\n",
       "       [ 10.,  87.],\n",
       "       [ 92.,  87.],\n",
       "       [ 13.,  88.],\n",
       "       [ 86.,  88.],\n",
       "       [ 15.,  88.],\n",
       "       [ 69.,  88.],\n",
       "       [ 14.,  93.],\n",
       "       [ 90.,  93.],\n",
       "       [ 32.,  97.],\n",
       "       [ 86.,  97.],\n",
       "       [ 15.,  98.],\n",
       "       [ 88.,  98.],\n",
       "       [ 39.,  99.],\n",
       "       [ 97.,  99.],\n",
       "       [ 24., 101.],\n",
       "       [ 68., 101.],\n",
       "       [ 17., 103.],\n",
       "       [ 85., 103.],\n",
       "       [ 23., 103.],\n",
       "       [ 69., 103.],\n",
       "       [  8., 113.],\n",
       "       [ 91., 113.],\n",
       "       [ 16., 120.],\n",
       "       [ 79., 120.],\n",
       "       [ 28., 126.],\n",
       "       [ 74., 126.],\n",
       "       [ 18., 137.],\n",
       "       [ 83., 137.]], dtype=float32)"
      ]
     },
     "execution_count": 11,
     "metadata": {},
     "output_type": "execute_result"
    }
   ],
   "source": [
    "dbscan_data=df[['Spending Score (1-100)','Annual Income (k$)']]\n",
    "dbscan_data=dbscan_data.values.astype('float32',copy=False)\n",
    "dbscan_data"
   ]
  },
  {
   "cell_type": "code",
   "execution_count": 11,
   "metadata": {},
   "outputs": [
    {
     "data": {
      "text/html": [
       "<div>\n",
       "<style scoped>\n",
       "    .dataframe tbody tr th:only-of-type {\n",
       "        vertical-align: middle;\n",
       "    }\n",
       "\n",
       "    .dataframe tbody tr th {\n",
       "        vertical-align: top;\n",
       "    }\n",
       "\n",
       "    .dataframe thead th {\n",
       "        text-align: right;\n",
       "    }\n",
       "</style>\n",
       "<table border=\"1\" class=\"dataframe\">\n",
       "  <thead>\n",
       "    <tr style=\"text-align: right;\">\n",
       "      <th></th>\n",
       "      <th>CustomerID</th>\n",
       "      <th>Genre</th>\n",
       "      <th>Age</th>\n",
       "      <th>Annual Income (k$)</th>\n",
       "      <th>Spending Score (1-100)</th>\n",
       "    </tr>\n",
       "  </thead>\n",
       "  <tbody>\n",
       "    <tr>\n",
       "      <td>0</td>\n",
       "      <td>1</td>\n",
       "      <td>Male</td>\n",
       "      <td>19</td>\n",
       "      <td>15</td>\n",
       "      <td>39</td>\n",
       "    </tr>\n",
       "    <tr>\n",
       "      <td>1</td>\n",
       "      <td>2</td>\n",
       "      <td>Male</td>\n",
       "      <td>21</td>\n",
       "      <td>15</td>\n",
       "      <td>81</td>\n",
       "    </tr>\n",
       "    <tr>\n",
       "      <td>2</td>\n",
       "      <td>3</td>\n",
       "      <td>Female</td>\n",
       "      <td>20</td>\n",
       "      <td>16</td>\n",
       "      <td>6</td>\n",
       "    </tr>\n",
       "    <tr>\n",
       "      <td>3</td>\n",
       "      <td>4</td>\n",
       "      <td>Female</td>\n",
       "      <td>23</td>\n",
       "      <td>16</td>\n",
       "      <td>77</td>\n",
       "    </tr>\n",
       "    <tr>\n",
       "      <td>4</td>\n",
       "      <td>5</td>\n",
       "      <td>Female</td>\n",
       "      <td>31</td>\n",
       "      <td>17</td>\n",
       "      <td>40</td>\n",
       "    </tr>\n",
       "  </tbody>\n",
       "</table>\n",
       "</div>"
      ],
      "text/plain": [
       "   CustomerID   Genre  Age  Annual Income (k$)  Spending Score (1-100)\n",
       "0           1    Male   19                  15                      39\n",
       "1           2    Male   21                  15                      81\n",
       "2           3  Female   20                  16                       6\n",
       "3           4  Female   23                  16                      77\n",
       "4           5  Female   31                  17                      40"
      ]
     },
     "execution_count": 11,
     "metadata": {},
     "output_type": "execute_result"
    }
   ],
   "source": [
    "df.head()\n",
    "df['Genre']=pd.get_dummies(df['Genre'])"
   ]
  },
  {
   "cell_type": "code",
   "execution_count": 12,
   "metadata": {},
   "outputs": [],
   "source": [
    "#dbscan=DBSCAN(eps=.3,min_samples=5)\n",
    "dbscan=DBSCAN(eps=9,min_samples=4)\n",
    "pred=dbscan.fit(dbscan_data)"
   ]
  },
  {
   "cell_type": "code",
   "execution_count": 13,
   "metadata": {},
   "outputs": [
    {
     "name": "stdout",
     "output_type": "stream",
     "text": [
      "Counter({3: 89, 4: 32, 5: 23, 0: 17, -1: 16, 1: 12, 2: 7, 6: 4})\n",
      "[[ 94.  18.]\n",
      " [ 99.  19.]\n",
      " [ 98.  23.]\n",
      " [ 92.  38.]\n",
      " [ 39.  99.]\n",
      " [ 97.  99.]\n",
      " [ 68. 101.]\n",
      " [ 69. 103.]\n",
      " [  8. 113.]\n",
      " [ 91. 113.]\n",
      " [ 16. 120.]\n",
      " [ 79. 120.]\n",
      " [ 28. 126.]\n",
      " [ 74. 126.]\n",
      " [ 18. 137.]\n",
      " [ 83. 137.]]\n",
      "no of clusters=7\n"
     ]
    }
   ],
   "source": [
    "outlier_df=df[dbscan.labels_ ==-1]\n",
    "cluster_df=df[dbscan.labels_ !=-1]\n",
    "colors=dbscan.labels_\n",
    "colors_clusters=colors[colors !=-1]\n",
    "color_clusters= 'black'\n",
    "##\n",
    "clusters=Counter(dbscan.labels_)\n",
    "print(clusters)\n",
    "print(dbscan_data[dbscan.labels_ ==-1])\n",
    "print('no of clusters={}'.format(len(clusters)-1))"
   ]
  },
  {
   "cell_type": "code",
   "execution_count": null,
   "metadata": {},
   "outputs": [],
   "source": [
    "fig=plt.figure()\n",
    "ax=fig.add_axes([.1,.1,1,1])\n",
    "ax.scatter(cluster_df['Spending Score (1-100)'],cluster_df['Annual Income (k$)'],\n",
    "            c=color_clusters,edgecolor='black',s=50)\n",
    "ax.scatter(outlier_df['Spending Score (1-100)'],outlier_df['Annual Income (k$)'],\n",
    "            c=color_clusters,edgecolor='black',s=50)\n",
    "ax.set_xlabel('Spending Score (1-100)')\n",
    "ax.set_ylabel('Annual Income (k$)')\n",
    "plt.title('clustered Annual income basis of spending score')\n",
    "plt.grid(which='major',color='blue',alpha=.45)\n",
    "plt.show()"
   ]
  },
  {
   "cell_type": "code",
   "execution_count": 14,
   "metadata": {},
   "outputs": [],
   "source": [
    "from sklearn.neighbors import NearestNeighbors\n",
    "neigh = NearestNeighbors(n_neighbors=2)\n",
    "nbrs = neigh.fit(dbscan_data)\n",
    "distances, indices = nbrs.kneighbors(dbscan_data)"
   ]
  },
  {
   "cell_type": "code",
   "execution_count": 15,
   "metadata": {},
   "outputs": [
    {
     "data": {
      "image/png": "[encoded data removed]",
      "text/plain": [
       "<Figure size 1440x720 with 1 Axes>"
      ]
     },
     "metadata": {
      "needs_background": "light"
     },
     "output_type": "display_data"
    }
   ],
   "source": [
    "# Plotting K-distance Graph\n",
    "distances = np.sort(distances, axis=0)\n",
    "distances = distances[:,1]\n",
    "plt.figure(figsize=(20,10))\n",
    "plt.plot(distances)\n",
    "plt.title('K-distance Graph',fontsize=20)\n",
    "plt.xlabel('Data Points sorted by distance',fontsize=14)\n",
    "plt.ylabel('Epsilon',fontsize=14)\n",
    "plt.show()"
   ]
  },
  {
   "cell_type": "code",
   "execution_count": 17,
   "metadata": {},
   "outputs": [
    {
     "data": {
      "text/plain": [
       " 3    89\n",
       " 4    32\n",
       " 5    23\n",
       " 0    17\n",
       "-1    16\n",
       " 1    12\n",
       " 2     7\n",
       " 6     4\n",
       "Name: DBSCAN_opt_labels, dtype: int64"
      ]
     },
     "execution_count": 17,
     "metadata": {},
     "output_type": "execute_result"
    }
   ],
   "source": [
    "df['DBSCAN_opt_labels']=dbscan.labels_\n",
    "df['DBSCAN_opt_labels'].value_counts()"
   ]
  },
  {
   "cell_type": "code",
   "execution_count": 29,
   "metadata": {},
   "outputs": [],
   "source": [
    "anom_index = np.where(pred == -1)\n",
    "values = x[anom_index]\n",
    "df.head()\n",
    "labels=dbscan.labels_"
   ]
  },
  {
   "cell_type": "code",
   "execution_count": 19,
   "metadata": {},
   "outputs": [
    {
     "data": {
      "text/plain": [
       "Text(0.5, 1.0, 'DBSCAN')"
      ]
     },
     "execution_count": 19,
     "metadata": {},
     "output_type": "execute_result"
    },
    {
     "data": {
      "image/png": "[encoded data removed]",
      "text/plain": [
       "<Figure size 432x288 with 1 Axes>"
      ]
     },
     "metadata": {
      "needs_background": "light"
     },
     "output_type": "display_data"
    }
   ],
   "source": [
    "plt.scatter(df['Annual Income (k$)'],df['Spending Score (1-100)'],c=predicted_labels, cmap='Paired')\n",
    "plt.xlabel('Annual Income')\n",
    "plt.ylabel('Spending Score')\n",
    "plt.title(\"DBSCAN\")"
   ]
  },
  {
   "cell_type": "code",
   "execution_count": 30,
   "metadata": {},
   "outputs": [],
   "source": [
    "db_data=pd.DataFrame(data=dbscan_data)"
   ]
  },
  {
   "cell_type": "code",
   "execution_count": 32,
   "metadata": {},
   "outputs": [
    {
     "name": "stdout",
     "output_type": "stream",
     "text": [
      "Estimated number of clusters: 7\n",
      "Estimated number of noise points: 16\n",
      "Silhouette Coefficient: 0.426\n"
     ]
    }
   ],
   "source": [
    "# Number of clusters in labels, ignoring noise if present.\n",
    "n_clusters_ = len(set(labels)) - (1 if -1 in labels else 0)\n",
    "n_noise_ = list(labels).count(-1)\n",
    "\n",
    "print('Estimated number of clusters: %d' % n_clusters_)\n",
    "print('Estimated number of noise points: %d' % n_noise_)\n",
    "print(\"Silhouette Coefficient: %0.3f\"\n",
    "      % metrics.silhouette_score(db_data, labels))"
   ]
  },
  {
   "cell_type": "code",
   "execution_count": null,
   "metadata": {},
   "outputs": [],
   "source": []
  }
 ],
 "metadata": {
  "kernelspec": {
   "display_name": "Python 3",
   "language": "python",
   "name": "python3"
  },
  "language_info": {
   "codemirror_mode": {
    "name": "ipython",
    "version": 3
   },
   "file_extension": ".py",
   "mimetype": "text/x-python",
   "name": "python",
   "nbconvert_exporter": "python",
   "pygments_lexer": "ipython3",
   "version": "3.7.4"
  }
 },
 "nbformat": 4,
 "nbformat_minor": 2
}
